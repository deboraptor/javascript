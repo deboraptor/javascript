{
 "cells": [
  {
   "cell_type": "markdown",
   "id": "5b097fdd",
   "metadata": {},
   "source": [
    "<!-- LTeX: language=fr -->"
   ]
  },
  {
   "cell_type": "markdown",
   "id": "31697a5d",
   "metadata": {
    "lines_to_next_cell": 2,
    "slideshow": {
     "slide_type": "slide"
    }
   },
   "source": [
    "Cours 12 : *And another thing…*\n",
    "===============================\n",
    "\n",
    "**Loïc Grobol** [<lgrobol@parisnanterre.fr>](mailto:lgrobol@parisnanterre.fr)"
   ]
  },
  {
   "cell_type": "code",
   "execution_count": null,
   "id": "ac9031ce",
   "metadata": {},
   "outputs": [],
   "source": [
    "from IPython.display import display"
   ]
  },
  {
   "cell_type": "markdown",
   "id": "00a9d8d7",
   "metadata": {},
   "source": [
    "## JavaScript\n",
    "\n",
    "JavaScript (ou ECMAScript) est un langage de programmation originellement conçu pour être intégré à\n",
    "des pages web et être interprété par les navigateurs. Ça permet de donner des fonctions dynamiques à\n",
    "des pages web sans avoir à communiquer avec un serveur distant : JavaScript tourne en local, sur la\n",
    "machine qui affiche la page.\n",
    "\n",
    "Depuis, comme les autres technologies du web ses usages se sont considérablement étendus, notamment\n",
    "via [NodeJS](https://nodejs.org) qui permet de l'utiliser comme un langage de programmation système\n",
    "ou des plateformes comme [React Native](https://reactnative.dev) ou\n",
    "[Electron](https://www.electronjs.org) qui permettent de concevoir des interfaces graphiques natives\n",
    "(qui se passent d'un navigateur) en HTML+JavaScript.\n",
    "\n",
    "Il sert également de langage de base pour des langages transpilés comme\n",
    "[TypeScript](https://www.typescriptlang.org) ou [CoffeeScript](https://coffeescript.org).\n",
    "\n",
    "En général, on utilise assez peu JavaScript seul, en partie parce qu'il était historiquement (disons\n",
    "avant sa version 6) assez idiosyncratique et plutôt désagréable à utiliser, des efforts sont fait\n",
    "depuis et ça va de mieux en mieux. On continue quand même à utiliser des boîtes à outils\n",
    "comme [JQuery](https://jquery.com/), qui\n",
    "\n",
    "- Servent de complément à la bibliothèque standard\n",
    "- Peuvent être mis à jour régulièrement sans nécessiter de mise à jour des navigateurs clients\n",
    "\n",
    "Mais le besoin n'est plus aussi crucial qu'il l'a été, suite à l'introduction des API [`fetch`](https://developer.mozilla.org/en-US/docs/Web/API/Fetch_API) et [Selectors](https://www.w3.org/TR/selectors-api).\n",
    "\n",
    "Pour faire des pages web dynamiques, au-delà de cas simples, je vous recommande l'utilisation de\n",
    "frameworks comme [React](https://reactjs.org) ou [Angular](https://angular.io)."
   ]
  },
  {
   "cell_type": "markdown",
   "id": "7dbe8da2",
   "metadata": {},
   "source": [
    "## Gotchas\n",
    "\n",
    "Il y a énormément à dire et à apprendre au-delà de ce cours, et je vous recommande très fortement\n",
    "d'aller lire, ou au moins picorer [le tutoriel de\n",
    "MDN](https://developer.mozilla.org/en-US/docs/Learn/JavaScript) et le [*Modern Javascript\n",
    "Tutorial*](https://javascript.info). \n",
    "\n",
    "Ici, on va se limiter à quelques trucs bons à savoir si vous apprenez JavaScript en venant de Python"
   ]
  },
  {
   "cell_type": "markdown",
   "id": "d9436e6b",
   "metadata": {},
   "source": [
    "### Instructions et fins de lignes"
   ]
  },
  {
   "cell_type": "markdown",
   "id": "279b6cd8",
   "metadata": {},
   "source": [
    "Les instructions sont séparées comme en Python par des fins de ligne s'il n'y a pas d'ambiguïté\n",
    "\n",
    "```javascript\n",
    "console.log(\"machin\")\n",
    "console.log(\"truc\")\n",
    "```\n",
    "\n",
    "On peut aussi les mettre sur une même ligne, comme en Python, en les séparant par des `;` **mais on évite**\n",
    "\n",
    "```javascript\n",
    "console.log(\"machin\"); console.log(\"truc\")\n",
    "```\n",
    "\n",
    "En revanche on met un `;` quand il s'agit de lever une ambiguïté :\n",
    "\n",
    "```javascript\n",
    "const a = 2\n",
    "const b = 3\n",
    "(a + b).toString()\n",
    "```\n",
    "\n",
    "Ne fait pas ce que vous pensez mais \n",
    "\n",
    "```javascript\n",
    "const a = 2\n",
    "const b = 3(a + b).toString()\n",
    "```\n",
    "\n",
    "Ce qui est une erreur. Il faut plutôt écrire\n",
    "\n",
    "```javascript\n",
    "const a = 2\n",
    "const b = 3;\n",
    "(a + b).toString()\n",
    "```\n",
    "\n",
    "ou mon préféré\n",
    "\n",
    "```javascript\n",
    "const a = 2\n",
    "const b = 3\n",
    ";(a + b).toString()\n",
    "```"
   ]
  },
  {
   "cell_type": "markdown",
   "id": "89db7af7",
   "metadata": {},
   "source": [
    "### Blocs et accolades"
   ]
  },
  {
   "cell_type": "markdown",
   "id": "0fe68bae",
   "metadata": {},
   "source": [
    "Contrairement à Python (mais comme beaucoup de langages), en JavaScript, on délimite les blocs non\n",
    "pas avec des tabulations, mais avec des accolades :\n",
    "\n",
    "```javascript\n",
    "const t = [1, 2, 3, 4, 5]\n",
    "for (const v of t){\n",
    "    if (v > 2){\n",
    "        console.log(v)\n",
    "    } else {\n",
    "        console.log(v+1)\n",
    "    }\n",
    "}\n",
    "```\n",
    "\n",
    "Vous pouvez faire ce que vous voulez avec l'indentation, ça marchera, mais on recommande en général\n",
    "d'indenter dans les blocs comme vous en avez l'habitude."
   ]
  },
  {
   "cell_type": "markdown",
   "id": "6fddbf1b",
   "metadata": {},
   "source": [
    "### Déclarer des variables"
   ]
  },
  {
   "cell_type": "markdown",
   "id": "7582f238",
   "metadata": {},
   "source": [
    "Les variables se **déclarent** à leur première utilisation avec `let` ou `const` (pour les rendre\n",
    "constantes) ou avec `var` **mais évitez d'utiliser `var`** qui tend à devenir obsolète"
   ]
  },
  {
   "cell_type": "markdown",
   "id": "bba98c7b",
   "metadata": {},
   "source": [
    "La portée d'une variable, c'est le bloc dans lequel elle est définie, ainsi\n",
    "\n",
    "```javascript\n",
    "const a = 2\n",
    "if (a != 2) {\n",
    "    let x = 1\n",
    "} else {\n",
    "    let x = 2\n",
    "}\n",
    "console.log(x)\n",
    "```\n",
    "\n",
    "renverra une erreur à la dernière ligne : `x` n'est pas définie en dehors du bloc. Il faut plutôt\n",
    "écrire\n",
    "\n",
    "```javascript\n",
    "const a = 2\n",
    "let x\n",
    "if (a != 2) {\n",
    "    x = 1\n",
    "} else {\n",
    "    x = 2\n",
    "}\n",
    "console.log(x)\n",
    "```"
   ]
  },
  {
   "cell_type": "markdown",
   "id": "d0340c89",
   "metadata": {},
   "source": [
    "### Boucles for\n",
    "\n",
    "Pour des raisons historiques, il y a trois types de boucles `for` en `JavaScript`\n",
    "\n",
    "- `for` qui est la boucle `for` du langage C :\n",
    "\n",
    "  ```javascript\n",
    "  let str = \"\";\n",
    "\n",
    "  for (let i = 0; i < 9; i++) {\n",
    "      str = str + i;\n",
    "  }\n",
    "\n",
    "  console.log(str);\n",
    "  ```\n",
    "\n",
    "  (notez l'affreuse conversion implicite entre entier et chaîne de caractères)\n",
    "- `for (… of …)` qui plus ou moins la même chose que `for` en Python\n",
    "\n",
    "  ```javascript\n",
    "  const array1 = ['a', 'b', 'c'];\n",
    "\n",
    "  for (const element of array1) {\n",
    "      console.log(element);\n",
    "  }\n",
    "  ```\n",
    "\n",
    "- `for (… in …)` qui est une abomination, une erreur du passé que vous ne voulez pas utiliser, allez\n",
    "  lire [la doc](https://developer.mozilla.org/fr/docs/Web/JavaScript/Reference/Statements/for...in)\n",
    "  pour frémir d'horreur."
   ]
  },
  {
   "cell_type": "markdown",
   "id": "317c997a",
   "metadata": {},
   "source": [
    "### Fonctions\n",
    "\n",
    "Il y a deux façons de définir des fonctions en JavaScript :\n",
    "\n",
    "- L'historique [déclaration\n",
    "  `function`](https://developer.mozilla.org/fr/docs/Web/JavaScript/Reference/Statements/function) et\n",
    "  son jumeau le [mot-clé\n",
    "  `function`](https://developer.mozilla.org/fr/docs/Web/JavaScript/Reference/Operators/function)\n",
    "\n",
    "  ```javascript\n",
    "  function getRectArea(width, height) {\n",
    "    return width * height\n",
    "  }\n",
    "  ```\n",
    "\n",
    "  ```javascript\n",
    "  (function(width, height) {\n",
    "    return width * height\n",
    "  })(15, 13)\n",
    "  ```\n",
    "\n",
    "- Les modernes fonctions fléchées\n",
    "\n",
    "  ```javascript\n",
    "  const getRectArea = (width, height) => {\n",
    "    return width * height\n",
    "  }\n",
    "  ```\n",
    "\n",
    "Il y a des [différences parfois subtiles entre les\n",
    "deux](https://developer.mozilla.org/en-US/docs/Web/JavaScript/Reference/Functions/Arrow_functions).\n",
    "En général on utilise surtout les fonctions fléchées pour des fonctions anonymes (comme les lambdas\n",
    "en Python, mais ici elles ne sont pas limitées à une seule expression)\n",
    "\n",
    "```javascript\n",
    "const materials = [\n",
    "  'Hydrogen',\n",
    "  'Helium',\n",
    "  'Lithium',\n",
    "  'Beryllium'\n",
    "];\n",
    "\n",
    "console.log(materials.map(m => m.length));\n",
    "```"
   ]
  },
  {
   "cell_type": "markdown",
   "id": "c2ae3885",
   "metadata": {},
   "source": [
    "### DOM et usage dans un navigateur\n",
    "\n",
    "En général on utilise JavaScript dans une page web. Dans ce cas, il existe un objet global,\n",
    "`document` qui est une représentation de la page et de ses éléments et qui offre un grand nombre\n",
    "d'outils pour les observer et les manipuler. Par exemple ceci change la couleur du fond de la page\n",
    "\n",
    "```javascript\n",
    "document.body.style.background = \"red\";\n",
    "```\n",
    "\n",
    "On parle de DOM : _**D**ocument **O**bject **M**odel_.\n",
    "\n",
    "Il **faut** garder sous la main [la documentation du DOM](https://developer.mozilla.org/en-US/docs/Web/API/Document_Object_Model)."
   ]
  },
  {
   "cell_type": "markdown",
   "id": "5a72821d",
   "metadata": {},
   "source": [
    "### Évènements\n",
    "\n",
    "Beaucoup d'éléments d'interaction en JavaScript utilisent la notion d'évènement, qu'on exploite en\n",
    "liant des fonctions (`callbacks`) à des actions ou des circonstances prédéfinies (`hooks`)"
   ]
  },
  {
   "cell_type": "markdown",
   "id": "f914840b",
   "metadata": {},
   "source": [
    "```html\n",
    "<input id=\"elem\" type=\"button\" value=\"Click me\">\n",
    "<script>\n",
    "  elem.addEventListener(\n",
    "    \"click\",\n",
    "    function() {\n",
    "        console.log(\"Hello, world!\")\n",
    "    },\n",
    "  )\n",
    "</script>\n",
    "```"
   ]
  },
  {
   "cell_type": "markdown",
   "id": "8a49a837",
   "metadata": {},
   "source": [
    "`Hello, world!` s'affiche dans la console à chaque fois qu'on clique sur le bouton et seulement à ce\n",
    "moment (pas au chargement de la page).\n",
    "\n",
    "Pour des cas simples on peut aussi redéfinir complètement l'évènement"
   ]
  },
  {
   "cell_type": "markdown",
   "id": "6df29a82",
   "metadata": {},
   "source": [
    "```html\n",
    "<input id=\"elem\" type=\"button\" value=\"Click me\">\n",
    "<script>\n",
    "  elem.onclick = function() {\n",
    "      alert('Thank you')\n",
    "  }\n",
    "</script>\n",
    "```"
   ]
  },
  {
   "cell_type": "markdown",
   "id": "9276ff16",
   "metadata": {},
   "source": [
    "## Interfaces\n",
    "\n",
    "En ce qui nous concerne, comme l'objectif est de réaliser des interfaces pour des systèmes de TAL et\n",
    "étant donné ce qu'on a vu dans ce cours, l'idéal est probablement de ne pas faire reposer trop de\n",
    "logique sur JavaScript, que ce soit côté client (donc page web) que du côté serveur, je vous\n",
    "recommande même d'éviter ici d'utiliser du JavaScript côté serveur (ce qu'on pourrait faire en\n",
    "Node). L'architecture adaptée si vous voulez une interface web graphique :\n",
    "\n",
    "```\n",
    "Système de TAL ⇆ API (FastAPI[+Jinja][+SQL]) ⇆ Page web (HTML+CSS+JavaScript)\n",
    "```\n",
    "\n",
    "Ici la page web requête l'API au moyen de méthodes comme\n",
    "[`fetch`](https://developer.mozilla.org/en-US/docs/Web/API/Fetch_API). En voici un exemple :"
   ]
  },
  {
   "cell_type": "markdown",
   "id": "75f984c8",
   "metadata": {},
   "source": [
    "```html\n",
    "<!DOCTYPE html>\n",
    "<html lang=\"fr\">\n",
    "\n",
    "<head>\n",
    "  <meta charset=\"utf-8\" />\n",
    "  <title>POS-tagger</title>\n",
    "</head>\n",
    "\n",
    "<body>\n",
    "  <h1>POS-tagger</h1>\n",
    "  <form action=\"http://localhost:8000/postag\" method=\"POST\" id=\"inputForm\">\n",
    "    <label for=\"sentence\">La phrase à analyser</label>\n",
    "    <input name=\"sentence\" id=\"sentence\" value=\"Il y a un lama dans mon salon !\" />\n",
    "    <button type=\"submit\">Envoyer</button>\n",
    "  </form>\n",
    "\n",
    "  <div id=\"result\"></div>\n",
    "</body>\n",
    "<script>\n",
    "  document.querySelector(\"#inputForm\").onsubmit = async (event) => {\n",
    "      event.preventDefault()\n",
    "      const form = event.target\n",
    "\n",
    "      const data = {\n",
    "          sentence: form.querySelector(\"#sentence\").value,\n",
    "      }\n",
    "\n",
    "      const response = await fetch(\n",
    "          form.action,\n",
    "          {\n",
    "              method: \"POST\",\n",
    "              headers: {\n",
    "                \"Content-Type\": \"application/json\",\n",
    "              },\n",
    "              body: JSON.stringify(data),\n",
    "          },\n",
    "      )\n",
    "\n",
    "      const text = await response.text() // read response body as text\n",
    "      document.querySelector(\"#result\").innerHTML = text\n",
    "  }\n",
    "</script>\n",
    "</html>\n",
    "```"
   ]
  },
  {
   "cell_type": "markdown",
   "id": "9cf09423",
   "metadata": {},
   "source": [
    "Elle permet d'accéder à l'API spacy suivante (qu'il aurait vraiment fallu faire avec Jinja) :"
   ]
  },
  {
   "cell_type": "code",
   "execution_count": null,
   "id": "cd44003d",
   "metadata": {},
   "outputs": [],
   "source": [
    "# %load apis/spacy_html_api.py\n",
    "from fastapi import FastAPI, HTTPException\n",
    "from fastapi.staticfiles import StaticFiles\n",
    "from pydantic import BaseModel\n",
    "from fastapi.responses import HTMLResponse\n",
    "import spacy\n",
    "\n",
    "app = FastAPI()\n",
    "\n",
    "\n",
    "app.mount(\"/front\", StaticFiles(directory=\"static\"), name=\"front\")\n",
    "\n",
    "\n",
    "class InputData(BaseModel):\n",
    "    sentence: str\n",
    "\n",
    "\n",
    "@app.post(\"/postag\")\n",
    "async def postag(inpt: InputData, model=\"fr_core_news_sm\"):\n",
    "    if model not in spacy.util.get_installed_models():\n",
    "        raise HTTPException(status_code=422, detail=f\"Model {model!r} unavailable\")\n",
    "    nlp = spacy.load(model)\n",
    "    doc = nlp(inpt.sentence)\n",
    "    above = \"\"\"<!DOCTYPE html>\n",
    "<html lang=\"en\">\n",
    "  <head>\n",
    "    <meta charset=\"utf-8\" />\n",
    "    <title>This is what you asked me to display</title>\n",
    "  </head>\n",
    "  <body>\n",
    "  <ol>\n",
    "\"\"\"\n",
    "    below = \"\"\"\n",
    "  </ol>\n",
    "  </body>\n",
    "</html>\n",
    "\"\"\"\n",
    "    lst = \"\\n\".join([f\"<li>{w.text}: {w.pos_}</li>\" for w in doc])\n",
    "    html_content = \"\\n\".join([above, lst, below])\n",
    "    return HTMLResponse(content=html_content, status_code=200)\n",
    "\n",
    "\n",
    "@app.get(\"/list\")\n",
    "async def list_models():\n",
    "    return {\"models\": spacy.util.get_installed_models()}\n",
    "\n",
    "\n"
   ]
  },
  {
   "cell_type": "markdown",
   "id": "07f7d223",
   "metadata": {},
   "source": [
    "Pour le rendu, aller dans le dossier [apis](apis/) qui accompagne ce notebook, lancer l'API dans Uvicorn :\n",
    "\n",
    "```bash\n",
    "uvicorn spacy_html_api:app\n",
    "```\n",
    "\n",
    "puis aller à <http://localhost:8000/front/spacy_form.html>."
   ]
  }
 ],
 "metadata": {
  "jupytext": {
   "formats": "ipynb,md",
   "split_at_heading": true
  },
  "kernelspec": {
   "display_name": "Python 3 (ipykernel)",
   "language": "python",
   "name": "python3"
  }
 },
 "nbformat": 4,
 "nbformat_minor": 5
}
